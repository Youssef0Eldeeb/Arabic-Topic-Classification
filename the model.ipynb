{
 "cells": [
  {
   "cell_type": "code",
   "execution_count": 48,
   "id": "e1d768e1",
   "metadata": {},
   "outputs": [],
   "source": [
    "import numpy as np\n",
    "from sklearn.feature_extraction.text import TfidfVectorizer\n",
    "from sklearn.feature_extraction.text import CountVectorizer\n",
    "from sklearn.model_selection import train_test_split\n",
    "from sklearn.naive_bayes import MultinomialNB\n",
    "from sklearn.metrics import accuracy_score\n",
    "from sklearn.metrics import confusion_matrix"
   ]
  },
  {
   "cell_type": "markdown",
   "id": "83fd140c",
   "metadata": {},
   "source": [
    "### Data Preprocessing"
   ]
  },
  {
   "cell_type": "code",
   "execution_count": 45,
   "id": "62baaaf2",
   "metadata": {},
   "outputs": [
    {
     "data": {
      "text/html": [
       "<div>\n",
       "<style scoped>\n",
       "    .dataframe tbody tr th:only-of-type {\n",
       "        vertical-align: middle;\n",
       "    }\n",
       "\n",
       "    .dataframe tbody tr th {\n",
       "        vertical-align: top;\n",
       "    }\n",
       "\n",
       "    .dataframe thead th {\n",
       "        text-align: right;\n",
       "    }\n",
       "</style>\n",
       "<table border=\"1\" class=\"dataframe\">\n",
       "  <thead>\n",
       "    <tr style=\"text-align: right;\">\n",
       "      <th></th>\n",
       "      <th>text</th>\n",
       "      <th>label</th>\n",
       "    </tr>\n",
       "  </thead>\n",
       "  <tbody>\n",
       "    <tr>\n",
       "      <th>0</th>\n",
       "      <td>سحبت شركة غوغل في خطوة مفاجئة خدمة يوتيوب الشه...</td>\n",
       "      <td>Tech</td>\n",
       "    </tr>\n",
       "    <tr>\n",
       "      <th>1</th>\n",
       "      <td>عاد لاعب باريس سان جيرمان  البرازيلي نيمار دا ...</td>\n",
       "      <td>Sports</td>\n",
       "    </tr>\n",
       "    <tr>\n",
       "      <th>2</th>\n",
       "      <td>أخبارنا المغربية ـ متابعة   في أول رد للبرلمان...</td>\n",
       "      <td>Politics</td>\n",
       "    </tr>\n",
       "    <tr>\n",
       "      <th>3</th>\n",
       "      <td>شيرين تتهرب من المؤتمر الصحفي لمهرجان تطوان و ...</td>\n",
       "      <td>Culture</td>\n",
       "    </tr>\n",
       "    <tr>\n",
       "      <th>4</th>\n",
       "      <td>منظمو أولمبياد طوكيو 2020 يطالبون بالتبرع باله...</td>\n",
       "      <td>Sports</td>\n",
       "    </tr>\n",
       "  </tbody>\n",
       "</table>\n",
       "</div>"
      ],
      "text/plain": [
       "                                                text     label\n",
       "0  سحبت شركة غوغل في خطوة مفاجئة خدمة يوتيوب الشه...      Tech\n",
       "1  عاد لاعب باريس سان جيرمان  البرازيلي نيمار دا ...    Sports\n",
       "2  أخبارنا المغربية ـ متابعة   في أول رد للبرلمان...  Politics\n",
       "3  شيرين تتهرب من المؤتمر الصحفي لمهرجان تطوان و ...   Culture\n",
       "4  منظمو أولمبياد طوكيو 2020 يطالبون بالتبرع باله...    Sports"
      ]
     },
     "execution_count": 45,
     "metadata": {},
     "output_type": "execute_result"
    }
   ],
   "source": [
    "import pandas as pd\n",
    "df=pd.read_csv('/Users/youssefeldeeb/Documents/Collage/4th Year/Second Term/Arabization(تعريف لغات الحاسب)/Project/Arabization-Project-2022-4th.CS/Datasets/all_topics.csv',encoding='utf-8')\n",
    "\n",
    "df.head()"
   ]
  },
  {
   "cell_type": "code",
   "execution_count": 46,
   "id": "3cd4550e",
   "metadata": {},
   "outputs": [],
   "source": [
    "#preprocessing steps (Normalization of data)\n",
    "\n",
    "def normalization(txt):\n",
    "    #Tokenization\n",
    "    tokenText = txt.split(' ')\n",
    "    \n",
    "    #StopWord Removing\n",
    "    SWList = []\n",
    "    stopWordList = open(\"arabic-stop-words.txt\").read().splitlines()\n",
    "    for token in tokenText:\n",
    "        if token not in stopWordList:\n",
    "            SWList.append(token)\n",
    "    SWText = ' '.join(SWList)\n",
    "    \n",
    "    # Punctuations Removing\n",
    "    import unicodedata as ud\n",
    "    puncText = ''.join(c for c in SWText if not ud.category(c).startswith('P'))\n",
    "    \n",
    "    # ISRI Stemmer (Root-based stemmer)\n",
    "    import nltk\n",
    "    st = nltk.ISRIStemmer()\n",
    "    tkText = puncText.split(' ')\n",
    "    result = ' '.join([st.stem(w) for w in tkText])\n",
    "    \n",
    "    return result"
   ]
  },
  {
   "cell_type": "code",
   "execution_count": 47,
   "id": "a741dd2b",
   "metadata": {},
   "outputs": [
    {
     "data": {
      "text/html": [
       "<div>\n",
       "<style scoped>\n",
       "    .dataframe tbody tr th:only-of-type {\n",
       "        vertical-align: middle;\n",
       "    }\n",
       "\n",
       "    .dataframe tbody tr th {\n",
       "        vertical-align: top;\n",
       "    }\n",
       "\n",
       "    .dataframe thead th {\n",
       "        text-align: right;\n",
       "    }\n",
       "</style>\n",
       "<table border=\"1\" class=\"dataframe\">\n",
       "  <thead>\n",
       "    <tr style=\"text-align: right;\">\n",
       "      <th></th>\n",
       "      <th>text</th>\n",
       "      <th>label</th>\n",
       "    </tr>\n",
       "  </thead>\n",
       "  <tbody>\n",
       "    <tr>\n",
       "      <th>0</th>\n",
       "      <td>سحبت شركة غوغل في خطوة مفاجئة خدمة يوتيوب الشه...</td>\n",
       "      <td>Tech</td>\n",
       "    </tr>\n",
       "    <tr>\n",
       "      <th>1</th>\n",
       "      <td>عاد لاعب باريس سان جيرمان  البرازيلي نيمار دا ...</td>\n",
       "      <td>Sports</td>\n",
       "    </tr>\n",
       "    <tr>\n",
       "      <th>2</th>\n",
       "      <td>أخبارنا المغربية ـ متابعة   في أول رد للبرلمان...</td>\n",
       "      <td>Politics</td>\n",
       "    </tr>\n",
       "    <tr>\n",
       "      <th>3</th>\n",
       "      <td>شيرين تتهرب من المؤتمر الصحفي لمهرجان تطوان و ...</td>\n",
       "      <td>Culture</td>\n",
       "    </tr>\n",
       "    <tr>\n",
       "      <th>4</th>\n",
       "      <td>منظمو أولمبياد طوكيو 2020 يطالبون بالتبرع باله...</td>\n",
       "      <td>Sports</td>\n",
       "    </tr>\n",
       "  </tbody>\n",
       "</table>\n",
       "</div>"
      ],
      "text/plain": [
       "                                                text     label\n",
       "0  سحبت شركة غوغل في خطوة مفاجئة خدمة يوتيوب الشه...      Tech\n",
       "1  عاد لاعب باريس سان جيرمان  البرازيلي نيمار دا ...    Sports\n",
       "2  أخبارنا المغربية ـ متابعة   في أول رد للبرلمان...  Politics\n",
       "3  شيرين تتهرب من المؤتمر الصحفي لمهرجان تطوان و ...   Culture\n",
       "4  منظمو أولمبياد طوكيو 2020 يطالبون بالتبرع باله...    Sports"
      ]
     },
     "execution_count": 47,
     "metadata": {},
     "output_type": "execute_result"
    }
   ],
   "source": [
    "df['text'].apply(normalization)\n",
    "df.head()"
   ]
  },
  {
   "cell_type": "code",
   "execution_count": 54,
   "id": "25dd7175",
   "metadata": {},
   "outputs": [],
   "source": [
    "# df.iloc[2]"
   ]
  },
  {
   "cell_type": "markdown",
   "id": "bbe3317c",
   "metadata": {},
   "source": [
    "### Feature Extraction\n",
    "### Classifing the data \n",
    "### Testing the mode"
   ]
  },
  {
   "cell_type": "code",
   "execution_count": 55,
   "id": "aab4ae96",
   "metadata": {},
   "outputs": [],
   "source": [
    "# Features Extraction by TF-IDF\n",
    "tfidf_vec=TfidfVectorizer()\n",
    "tfidf_features=tfidf_vec.fit_transform(df['text'])\n",
    "\n",
    "#split data into train and test\n",
    "x_train,x_test,y_train,y_test=train_test_split(tfidf_features,df['label'],test_size=0.2)"
   ]
  },
  {
   "cell_type": "code",
   "execution_count": 56,
   "id": "50bad39e",
   "metadata": {},
   "outputs": [
    {
     "name": "stdout",
     "output_type": "stream",
     "text": [
      "(62742, 466853)\n",
      "(15686, 466853)\n"
     ]
    }
   ],
   "source": [
    "print(x_train.shape)\n",
    "print(x_test.shape)"
   ]
  },
  {
   "cell_type": "code",
   "execution_count": 57,
   "id": "834a1ffa",
   "metadata": {},
   "outputs": [
    {
     "data": {
      "text/plain": [
       "MultinomialNB()"
      ]
     },
     "execution_count": 57,
     "metadata": {},
     "output_type": "execute_result"
    }
   ],
   "source": [
    "# classifier\n",
    "tfidf_model=MultinomialNB()\n",
    "tfidf_model.fit(x_train,y_train)"
   ]
  },
  {
   "cell_type": "code",
   "execution_count": 58,
   "id": "921d1baa",
   "metadata": {},
   "outputs": [
    {
     "data": {
      "text/plain": [
       "0.8730077776361086"
      ]
     },
     "execution_count": 58,
     "metadata": {},
     "output_type": "execute_result"
    }
   ],
   "source": [
    "#Testing data\n",
    "tfidf_predected=tfidf_model.predict(x_test)\n",
    "\n",
    "accuracy_score(y_test, tfidf_predected)"
   ]
  },
  {
   "cell_type": "code",
   "execution_count": 59,
   "id": "395fc8ab",
   "metadata": {},
   "outputs": [
    {
     "name": "stdout",
     "output_type": "stream",
     "text": [
      "[[ 551   15   15  589    4  132   45]\n",
      " [   3 1162   12  629    2   16   39]\n",
      " [   1    8 2586    4    1    5   37]\n",
      " [   1   28    1 2664    1    5    5]\n",
      " [   0    1   54  104 1376   16   10]\n",
      " [   0    1    1   51    0 3071    1]\n",
      " [   0    7  115   26    0    7 2284]]\n"
     ]
    }
   ],
   "source": [
    "cm = confusion_matrix(y_test,tfidf_predected)\n",
    "print(cm)"
   ]
  },
  {
   "cell_type": "code",
   "execution_count": 60,
   "id": "e8cb2ebf",
   "metadata": {},
   "outputs": [],
   "source": [
    "# #represent the confusion matrix with GUI form\n",
    "# import matplotlib.pyplot as plt\n",
    "# import seaborn as sns\n",
    "\n",
    "# plt.rcParams['figure.figsize'] = (8, 8)\n",
    "# sns.heatmap(cm, annot = True, annot_kws = {'size':10})\n",
    "# sns.set_style({'xtick.bottom': True})"
   ]
  },
  {
   "cell_type": "code",
   "execution_count": null,
   "id": "3ee456fb",
   "metadata": {},
   "outputs": [],
   "source": []
  },
  {
   "cell_type": "code",
   "execution_count": 61,
   "id": "bcdac0f5",
   "metadata": {},
   "outputs": [],
   "source": [
    "# Features Extraction by Binary Encoding\n",
    "binary_vec=CountVectorizer(binary=True)\n",
    "binary_features=binary_vec.fit_transform(df['text'])\n",
    "\n",
    "#split data into train and test\n",
    "x_train,x_test,y_train,y_test=train_test_split(binary_features,df['label'],test_size=0.2)"
   ]
  },
  {
   "cell_type": "code",
   "execution_count": 62,
   "id": "43b3fe68",
   "metadata": {},
   "outputs": [
    {
     "data": {
      "text/plain": [
       "MultinomialNB()"
      ]
     },
     "execution_count": 62,
     "metadata": {},
     "output_type": "execute_result"
    }
   ],
   "source": [
    "# classefier\n",
    "binary_model=MultinomialNB()\n",
    "binary_model.fit(x_train,y_train)"
   ]
  },
  {
   "cell_type": "code",
   "execution_count": 63,
   "id": "e448c3bf",
   "metadata": {},
   "outputs": [
    {
     "data": {
      "text/plain": [
       "0.9196098431722555"
      ]
     },
     "execution_count": 63,
     "metadata": {},
     "output_type": "execute_result"
    }
   ],
   "source": [
    "# testing data\n",
    "binary_predicted=binary_model.predict(x_test)\n",
    "accuracy_score(y_test, binary_predicted)"
   ]
  },
  {
   "cell_type": "code",
   "execution_count": 64,
   "id": "daeb2cf9",
   "metadata": {},
   "outputs": [
    {
     "name": "stdout",
     "output_type": "stream",
     "text": [
      "[[1076    7    1   23   24   23   10]\n",
      " [  46 1497   17  132    9   10   25]\n",
      " [  11    2 2485    2   25    6   92]\n",
      " [ 175  316    4 2636   34   71   19]\n",
      " [   7    0    8    8 1413    3    2]\n",
      " [  20   11    4    5    9 3046    3]\n",
      " [  16   15   53    1    7    5 2272]]\n"
     ]
    }
   ],
   "source": [
    "print(confusion_matrix(binary_predicted,y_test))"
   ]
  },
  {
   "cell_type": "code",
   "execution_count": 65,
   "id": "e715f3c2",
   "metadata": {},
   "outputs": [],
   "source": []
  },
  {
   "cell_type": "code",
   "execution_count": 66,
   "id": "55bff9de",
   "metadata": {},
   "outputs": [],
   "source": [
    "# Features Extraction by Counting\n",
    "count_vec=CountVectorizer()\n",
    "count_features=count_vec.fit_transform(df['text'])\n",
    "\n",
    "#split data into train and test\n",
    "x_train,x_test,y_train,y_test=train_test_split(count_features,df['label'],test_size=0.2)"
   ]
  },
  {
   "cell_type": "code",
   "execution_count": 67,
   "id": "a92a6c23",
   "metadata": {},
   "outputs": [
    {
     "data": {
      "text/plain": [
       "MultinomialNB()"
      ]
     },
     "execution_count": 67,
     "metadata": {},
     "output_type": "execute_result"
    }
   ],
   "source": [
    "# classefier\n",
    "count_model=MultinomialNB()\n",
    "count_model.fit(x_train,y_train)"
   ]
  },
  {
   "cell_type": "code",
   "execution_count": 68,
   "id": "37204ce6",
   "metadata": {},
   "outputs": [
    {
     "data": {
      "text/plain": [
       "0.9310850439882697"
      ]
     },
     "execution_count": 68,
     "metadata": {},
     "output_type": "execute_result"
    }
   ],
   "source": [
    "count_predicted=count_model.predict(x_test)\n",
    "accuracy_score(y_test, count_predicted)"
   ]
  },
  {
   "cell_type": "code",
   "execution_count": 69,
   "id": "9a09254d",
   "metadata": {},
   "outputs": [
    {
     "name": "stdout",
     "output_type": "stream",
     "text": [
      "[[1114   11    3   18   27   16   15]\n",
      " [  35 1565   25  119    9   14   23]\n",
      " [   5    5 2557    5   23    5   93]\n",
      " [ 119  270    5 2578   33   43    8]\n",
      " [   9    0   10    6 1423    0    1]\n",
      " [  19   14    2    3    3 3115    1]\n",
      " [  17   12   43    2    5    5 2253]]\n"
     ]
    }
   ],
   "source": [
    "print(confusion_matrix(count_predicted,y_test))"
   ]
  },
  {
   "cell_type": "code",
   "execution_count": null,
   "id": "2f696afd",
   "metadata": {},
   "outputs": [],
   "source": []
  }
 ],
 "metadata": {
  "kernelspec": {
   "display_name": "Python 3 (ipykernel)",
   "language": "python",
   "name": "python3"
  },
  "language_info": {
   "codemirror_mode": {
    "name": "ipython",
    "version": 3
   },
   "file_extension": ".py",
   "mimetype": "text/x-python",
   "name": "python",
   "nbconvert_exporter": "python",
   "pygments_lexer": "ipython3",
   "version": "3.9.7"
  }
 },
 "nbformat": 4,
 "nbformat_minor": 5
}
